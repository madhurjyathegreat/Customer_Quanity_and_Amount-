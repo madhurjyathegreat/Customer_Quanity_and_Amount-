{
 "cells": [
  {
   "cell_type": "markdown",
   "metadata": {},
   "source": [
    "# Business problem:-"
   ]
  },
  {
   "cell_type": "markdown",
   "metadata": {},
   "source": [
    "# Given City ,Brand ,Model,Price/Unit ,Amount,date,RAM and Internal memory we have to predict Quantity and Amount"
   ]
  },
  {
   "cell_type": "code",
   "execution_count": 62,
   "metadata": {},
   "outputs": [],
   "source": [
    "import pandas as pd\n",
    "data=pd.read_csv(r\"C:\\Users\\91996\\Desktop\\ML\\PredictiVu\\data.csv\")"
   ]
  },
  {
   "cell_type": "code",
   "execution_count": 23,
   "metadata": {},
   "outputs": [
    {
     "data": {
      "text/html": [
       "<div>\n",
       "<style scoped>\n",
       "    .dataframe tbody tr th:only-of-type {\n",
       "        vertical-align: middle;\n",
       "    }\n",
       "\n",
       "    .dataframe tbody tr th {\n",
       "        vertical-align: top;\n",
       "    }\n",
       "\n",
       "    .dataframe thead th {\n",
       "        text-align: right;\n",
       "    }\n",
       "</style>\n",
       "<table border=\"1\" class=\"dataframe\">\n",
       "  <thead>\n",
       "    <tr style=\"text-align: right;\">\n",
       "      <th></th>\n",
       "      <th>serialNo</th>\n",
       "      <th>City</th>\n",
       "      <th>Brand</th>\n",
       "      <th>Model</th>\n",
       "      <th>Price/Unit</th>\n",
       "      <th>Quantity</th>\n",
       "      <th>Amount</th>\n",
       "      <th>Date</th>\n",
       "      <th>RAM</th>\n",
       "      <th>Internal Memory</th>\n",
       "    </tr>\n",
       "  </thead>\n",
       "  <tbody>\n",
       "    <tr>\n",
       "      <th>0</th>\n",
       "      <td>195</td>\n",
       "      <td>Delhi</td>\n",
       "      <td>Brand 3</td>\n",
       "      <td>Model 22</td>\n",
       "      <td>8990</td>\n",
       "      <td>1</td>\n",
       "      <td>8990.0</td>\n",
       "      <td>9/27/2020</td>\n",
       "      <td>Feature1_1</td>\n",
       "      <td>Feature2_1</td>\n",
       "    </tr>\n",
       "    <tr>\n",
       "      <th>1</th>\n",
       "      <td>196</td>\n",
       "      <td>Delhi</td>\n",
       "      <td>Brand 3</td>\n",
       "      <td>Model 40</td>\n",
       "      <td>8990</td>\n",
       "      <td>1</td>\n",
       "      <td>8990.0</td>\n",
       "      <td>9/27/2020</td>\n",
       "      <td>Feature1_1</td>\n",
       "      <td>Feature2_1</td>\n",
       "    </tr>\n",
       "    <tr>\n",
       "      <th>2</th>\n",
       "      <td>197</td>\n",
       "      <td>Delhi</td>\n",
       "      <td>Brand 10</td>\n",
       "      <td>Model 86</td>\n",
       "      <td>11490</td>\n",
       "      <td>1</td>\n",
       "      <td>11490.0</td>\n",
       "      <td>9/27/2020</td>\n",
       "      <td>Feature1_1</td>\n",
       "      <td>Feature2_2</td>\n",
       "    </tr>\n",
       "    <tr>\n",
       "      <th>3</th>\n",
       "      <td>198</td>\n",
       "      <td>Delhi</td>\n",
       "      <td>Brand 1</td>\n",
       "      <td>Model 29</td>\n",
       "      <td>3600</td>\n",
       "      <td>1</td>\n",
       "      <td>3600.0</td>\n",
       "      <td>9/27/2020</td>\n",
       "      <td>Feature1_2</td>\n",
       "      <td>NaN</td>\n",
       "    </tr>\n",
       "    <tr>\n",
       "      <th>4</th>\n",
       "      <td>416</td>\n",
       "      <td>Kolkata</td>\n",
       "      <td>Brand 1</td>\n",
       "      <td>Model 115</td>\n",
       "      <td>11999</td>\n",
       "      <td>1</td>\n",
       "      <td>11999.0</td>\n",
       "      <td>9/27/2020</td>\n",
       "      <td>Feature1_3</td>\n",
       "      <td>Feature2_2</td>\n",
       "    </tr>\n",
       "  </tbody>\n",
       "</table>\n",
       "</div>"
      ],
      "text/plain": [
       "   serialNo     City     Brand      Model  Price/Unit  Quantity   Amount  \\\n",
       "0       195    Delhi   Brand 3   Model 22        8990         1   8990.0   \n",
       "1       196    Delhi   Brand 3   Model 40        8990         1   8990.0   \n",
       "2       197    Delhi  Brand 10   Model 86       11490         1  11490.0   \n",
       "3       198    Delhi   Brand 1   Model 29        3600         1   3600.0   \n",
       "4       416  Kolkata   Brand 1  Model 115       11999         1  11999.0   \n",
       "\n",
       "        Date         RAM Internal Memory  \n",
       "0  9/27/2020  Feature1_1      Feature2_1  \n",
       "1  9/27/2020  Feature1_1      Feature2_1  \n",
       "2  9/27/2020  Feature1_1      Feature2_2  \n",
       "3  9/27/2020  Feature1_2             NaN  \n",
       "4  9/27/2020  Feature1_3      Feature2_2  "
      ]
     },
     "execution_count": 23,
     "metadata": {},
     "output_type": "execute_result"
    }
   ],
   "source": [
    "data.head()"
   ]
  },
  {
   "cell_type": "markdown",
   "metadata": {},
   "source": [
    "# Data Preprocessing:-"
   ]
  },
  {
   "cell_type": "markdown",
   "metadata": {},
   "source": [
    "# Handling missing values:-"
   ]
  },
  {
   "cell_type": "code",
   "execution_count": 153,
   "metadata": {},
   "outputs": [
    {
     "data": {
      "text/plain": [
       "serialNo             0\n",
       "City                 0\n",
       "Brand                0\n",
       "Model                0\n",
       "Price/Unit           0\n",
       "Quantity             0\n",
       "Amount               0\n",
       "Date                 0\n",
       "RAM                156\n",
       "Internal Memory    859\n",
       "dtype: int64"
      ]
     },
     "execution_count": 153,
     "metadata": {},
     "output_type": "execute_result"
    }
   ],
   "source": [
    "data.isna().sum()"
   ]
  },
  {
   "cell_type": "markdown",
   "metadata": {},
   "source": [
    "# As RAM and Internal Memory are both categorical in nature ,we impute the missing values as a new category"
   ]
  },
  {
   "cell_type": "code",
   "execution_count": 63,
   "metadata": {},
   "outputs": [],
   "source": [
    "data.RAM=data.RAM.fillna(\"Feature_10001\")\n",
    "data['Internal Memory']=data['Internal Memory'].fillna(\"Feature_1001\")"
   ]
  },
  {
   "cell_type": "code",
   "execution_count": 64,
   "metadata": {},
   "outputs": [
    {
     "data": {
      "text/plain": [
       "serialNo           0\n",
       "City               0\n",
       "Brand              0\n",
       "Model              0\n",
       "Price/Unit         0\n",
       "Quantity           0\n",
       "Amount             0\n",
       "Date               0\n",
       "RAM                0\n",
       "Internal Memory    0\n",
       "dtype: int64"
      ]
     },
     "execution_count": 64,
     "metadata": {},
     "output_type": "execute_result"
    }
   ],
   "source": [
    "data.isna().sum()"
   ]
  },
  {
   "cell_type": "code",
   "execution_count": 65,
   "metadata": {},
   "outputs": [],
   "source": [
    "data['Brand']=[i.split()[1] for i in data.Brand]\n",
    "data['Model']=[i.split()[1] for i in data.Model]\n",
    "data['RAM']=[i.split(\"_\")[1] for i in data.RAM]\n",
    "data['Internal Memory']=[i.split(\"_\")[1] for i in data['Internal Memory']]"
   ]
  },
  {
   "cell_type": "code",
   "execution_count": 185,
   "metadata": {},
   "outputs": [
    {
     "data": {
      "text/html": [
       "<div>\n",
       "<style scoped>\n",
       "    .dataframe tbody tr th:only-of-type {\n",
       "        vertical-align: middle;\n",
       "    }\n",
       "\n",
       "    .dataframe tbody tr th {\n",
       "        vertical-align: top;\n",
       "    }\n",
       "\n",
       "    .dataframe thead th {\n",
       "        text-align: right;\n",
       "    }\n",
       "</style>\n",
       "<table border=\"1\" class=\"dataframe\">\n",
       "  <thead>\n",
       "    <tr style=\"text-align: right;\">\n",
       "      <th></th>\n",
       "      <th>serialNo</th>\n",
       "      <th>City</th>\n",
       "      <th>Brand</th>\n",
       "      <th>Model</th>\n",
       "      <th>Price/Unit</th>\n",
       "      <th>Quantity</th>\n",
       "      <th>Amount</th>\n",
       "      <th>Date</th>\n",
       "      <th>RAM</th>\n",
       "      <th>Internal Memory</th>\n",
       "    </tr>\n",
       "  </thead>\n",
       "  <tbody>\n",
       "    <tr>\n",
       "      <th>0</th>\n",
       "      <td>195</td>\n",
       "      <td>Delhi</td>\n",
       "      <td>3</td>\n",
       "      <td>22</td>\n",
       "      <td>8990</td>\n",
       "      <td>1</td>\n",
       "      <td>8990.0</td>\n",
       "      <td>9/27/2020</td>\n",
       "      <td>1</td>\n",
       "      <td>1</td>\n",
       "    </tr>\n",
       "    <tr>\n",
       "      <th>1</th>\n",
       "      <td>196</td>\n",
       "      <td>Delhi</td>\n",
       "      <td>3</td>\n",
       "      <td>40</td>\n",
       "      <td>8990</td>\n",
       "      <td>1</td>\n",
       "      <td>8990.0</td>\n",
       "      <td>9/27/2020</td>\n",
       "      <td>1</td>\n",
       "      <td>1</td>\n",
       "    </tr>\n",
       "    <tr>\n",
       "      <th>2</th>\n",
       "      <td>197</td>\n",
       "      <td>Delhi</td>\n",
       "      <td>10</td>\n",
       "      <td>86</td>\n",
       "      <td>11490</td>\n",
       "      <td>1</td>\n",
       "      <td>11490.0</td>\n",
       "      <td>9/27/2020</td>\n",
       "      <td>1</td>\n",
       "      <td>2</td>\n",
       "    </tr>\n",
       "    <tr>\n",
       "      <th>3</th>\n",
       "      <td>198</td>\n",
       "      <td>Delhi</td>\n",
       "      <td>1</td>\n",
       "      <td>29</td>\n",
       "      <td>3600</td>\n",
       "      <td>1</td>\n",
       "      <td>3600.0</td>\n",
       "      <td>9/27/2020</td>\n",
       "      <td>2</td>\n",
       "      <td>1001</td>\n",
       "    </tr>\n",
       "    <tr>\n",
       "      <th>4</th>\n",
       "      <td>416</td>\n",
       "      <td>Kolkata</td>\n",
       "      <td>1</td>\n",
       "      <td>115</td>\n",
       "      <td>11999</td>\n",
       "      <td>1</td>\n",
       "      <td>11999.0</td>\n",
       "      <td>9/27/2020</td>\n",
       "      <td>3</td>\n",
       "      <td>2</td>\n",
       "    </tr>\n",
       "  </tbody>\n",
       "</table>\n",
       "</div>"
      ],
      "text/plain": [
       "   serialNo     City Brand Model  Price/Unit  Quantity   Amount       Date  \\\n",
       "0       195    Delhi     3    22        8990         1   8990.0  9/27/2020   \n",
       "1       196    Delhi     3    40        8990         1   8990.0  9/27/2020   \n",
       "2       197    Delhi    10    86       11490         1  11490.0  9/27/2020   \n",
       "3       198    Delhi     1    29        3600         1   3600.0  9/27/2020   \n",
       "4       416  Kolkata     1   115       11999         1  11999.0  9/27/2020   \n",
       "\n",
       "  RAM Internal Memory  \n",
       "0   1               1  \n",
       "1   1               1  \n",
       "2   1               2  \n",
       "3   2            1001  \n",
       "4   3               2  "
      ]
     },
     "execution_count": 185,
     "metadata": {},
     "output_type": "execute_result"
    }
   ],
   "source": [
    "data.head()"
   ]
  },
  {
   "cell_type": "code",
   "execution_count": 66,
   "metadata": {},
   "outputs": [],
   "source": [
    "del data['serialNo']"
   ]
  },
  {
   "cell_type": "code",
   "execution_count": 67,
   "metadata": {},
   "outputs": [],
   "source": [
    "data['Brand']=pd.to_numeric(data['Brand'], errors='coerce') \n",
    "data['Model']=pd.to_numeric(data['Model'], errors='coerce') \n",
    "data['RAM']=pd.to_numeric(data['RAM'], errors='coerce') \n",
    "data['Internal Memory']=pd.to_numeric(data['Internal Memory'], errors='coerce') \n",
    "import seaborn as sns\n",
    "\n"
   ]
  },
  {
   "cell_type": "markdown",
   "metadata": {},
   "source": [
    "# Handling Outliers"
   ]
  },
  {
   "cell_type": "code",
   "execution_count": 99,
   "metadata": {},
   "outputs": [
    {
     "data": {
      "text/plain": [
       "<matplotlib.axes._subplots.AxesSubplot at 0x29aa7888488>"
      ]
     },
     "execution_count": 99,
     "metadata": {},
     "output_type": "execute_result"
    },
    {
     "data": {
      "image/png": "[encoded data removed]",
      "text/plain": [
       "<Figure size 432x288 with 1 Axes>"
      ]
     },
     "metadata": {
      "needs_background": "light"
     },
     "output_type": "display_data"
    }
   ],
   "source": [
    "sns.boxplot(x=data[\"Brand\"])"
   ]
  },
  {
   "cell_type": "code",
   "execution_count": 160,
   "metadata": {},
   "outputs": [
    {
     "data": {
      "text/plain": [
       "<matplotlib.axes._subplots.AxesSubplot at 0x29aa7bbc408>"
      ]
     },
     "execution_count": 160,
     "metadata": {},
     "output_type": "execute_result"
    },
    {
     "data": {
      "image/png": "[encoded data removed]",
      "text/plain": [
       "<Figure size 432x288 with 1 Axes>"
      ]
     },
     "metadata": {
      "needs_background": "light"
     },
     "output_type": "display_data"
    }
   ],
   "source": [
    "sns.boxplot(x=data[\"Model\"])"
   ]
  },
  {
   "cell_type": "code",
   "execution_count": 102,
   "metadata": {},
   "outputs": [
    {
     "data": {
      "text/plain": [
       "<matplotlib.axes._subplots.AxesSubplot at 0x29aa794ecc8>"
      ]
     },
     "execution_count": 102,
     "metadata": {},
     "output_type": "execute_result"
    },
    {
     "data": {
      "image/png": "[encoded data removed]",
      "text/plain": [
       "<Figure size 432x288 with 1 Axes>"
      ]
     },
     "metadata": {
      "needs_background": "light"
     },
     "output_type": "display_data"
    }
   ],
   "source": [
    "sns.boxplot(x=data[\"RAM\"])"
   ]
  },
  {
   "cell_type": "code",
   "execution_count": 103,
   "metadata": {},
   "outputs": [
    {
     "data": {
      "text/plain": [
       "<matplotlib.axes._subplots.AxesSubplot at 0x29aa79aef48>"
      ]
     },
     "execution_count": 103,
     "metadata": {},
     "output_type": "execute_result"
    },
    {
     "data": {
      "image/png": "[encoded data removed]",
      "text/plain": [
       "<Figure size 432x288 with 1 Axes>"
      ]
     },
     "metadata": {
      "needs_background": "light"
     },
     "output_type": "display_data"
    }
   ],
   "source": [
    "sns.boxplot(x=data['Internal Memory'])"
   ]
  },
  {
   "cell_type": "markdown",
   "metadata": {},
   "source": [
    "# So as there are outliers we need to handle them by using IQR\n",
    "# IQR=Q3-Q1\n",
    "# We keep only those values which are in the range of lower and upper bracket\n",
    "# Lower Bracket=Q1-(1.5*IQR) and Higher Bracket=Q1+(1.5*IQR) "
   ]
  },
  {
   "cell_type": "code",
   "execution_count": 68,
   "metadata": {},
   "outputs": [],
   "source": [
    "import numpy as np\n",
    "q1=np.percentile(data.Model,25)\n",
    "q3=np.percentile(data.Model,75)\n",
    "iqr=q3-q1\n",
    "lower_bracket=q1-(1.5*iqr)\n",
    "upper_bracket=q3+(1.5*iqr)"
   ]
  },
  {
   "cell_type": "code",
   "execution_count": 69,
   "metadata": {},
   "outputs": [
    {
     "name": "stdout",
     "output_type": "stream",
     "text": [
      "48.0 327.0 279.0 -370.5 745.5\n"
     ]
    }
   ],
   "source": [
    "print(q1,q3,iqr,lower_bracket,upper_bracket)"
   ]
  },
  {
   "cell_type": "code",
   "execution_count": 70,
   "metadata": {},
   "outputs": [],
   "source": [
    "model_outliers_list=[]\n",
    "for i in data.Model:\n",
    "    if i >=lower_bracket and i<=upper_bracket:\n",
    "        pass\n",
    "    else:\n",
    "        model_outliers_list.append(i)"
   ]
  },
  {
   "cell_type": "code",
   "execution_count": 71,
   "metadata": {},
   "outputs": [],
   "source": [
    "index_names=[]\n",
    "for i in model_outliers_list:\n",
    "    index_names.append(data[data['Model']==i].index)"
   ]
  },
  {
   "cell_type": "code",
   "execution_count": 72,
   "metadata": {},
   "outputs": [],
   "source": [
    "for i in index_names:\n",
    "    data.drop(i, inplace = True)"
   ]
  },
  {
   "cell_type": "code",
   "execution_count": 73,
   "metadata": {},
   "outputs": [],
   "source": [
    "q1_ram=np.percentile(data.RAM,25)\n",
    "q3_ram=np.percentile(data.RAM,75)\n",
    "iqr_ram=q3_ram-q1_ram\n",
    "lower_bracket_ram=q1_ram-(1.5*iqr_ram)\n",
    "upper_bracket_ram=q3_ram+(1.5*iqr_ram)"
   ]
  },
  {
   "cell_type": "code",
   "execution_count": 74,
   "metadata": {},
   "outputs": [
    {
     "name": "stdout",
     "output_type": "stream",
     "text": [
      "3.0 9.0 6.0 -6.0 18.0\n"
     ]
    }
   ],
   "source": [
    "print(q1_ram,q3_ram,iqr_ram,lower_bracket_ram,upper_bracket_ram)"
   ]
  },
  {
   "cell_type": "code",
   "execution_count": 75,
   "metadata": {},
   "outputs": [],
   "source": [
    "ram_outliers_list=[]\n",
    "for i in data.RAM:\n",
    "    if i >=lower_bracket_ram and i<=upper_bracket_ram:\n",
    "        pass\n",
    "    else:\n",
    "        ram_outliers_list.append(i)\n",
    "\n"
   ]
  },
  {
   "cell_type": "code",
   "execution_count": 76,
   "metadata": {},
   "outputs": [],
   "source": [
    "index_names_RAM=[]\n",
    "for i in ram_outliers_list:\n",
    "    index_names_RAM.append(data[data['RAM']==i].index)\n",
    "\n"
   ]
  },
  {
   "cell_type": "code",
   "execution_count": 77,
   "metadata": {},
   "outputs": [],
   "source": [
    "index_names=index_names_RAM[0]"
   ]
  },
  {
   "cell_type": "code",
   "execution_count": 78,
   "metadata": {},
   "outputs": [],
   "source": [
    "for i in index_names:\n",
    "    data.drop(i, inplace = True)"
   ]
  },
  {
   "cell_type": "code",
   "execution_count": 79,
   "metadata": {},
   "outputs": [
    {
     "data": {
      "text/html": [
       "<div>\n",
       "<style scoped>\n",
       "    .dataframe tbody tr th:only-of-type {\n",
       "        vertical-align: middle;\n",
       "    }\n",
       "\n",
       "    .dataframe tbody tr th {\n",
       "        vertical-align: top;\n",
       "    }\n",
       "\n",
       "    .dataframe thead th {\n",
       "        text-align: right;\n",
       "    }\n",
       "</style>\n",
       "<table border=\"1\" class=\"dataframe\">\n",
       "  <thead>\n",
       "    <tr style=\"text-align: right;\">\n",
       "      <th></th>\n",
       "      <th>City</th>\n",
       "      <th>Brand</th>\n",
       "      <th>Model</th>\n",
       "      <th>Price/Unit</th>\n",
       "      <th>Quantity</th>\n",
       "      <th>Amount</th>\n",
       "      <th>Date</th>\n",
       "      <th>RAM</th>\n",
       "      <th>Internal Memory</th>\n",
       "    </tr>\n",
       "  </thead>\n",
       "  <tbody>\n",
       "    <tr>\n",
       "      <th>0</th>\n",
       "      <td>Delhi</td>\n",
       "      <td>3</td>\n",
       "      <td>22</td>\n",
       "      <td>8990</td>\n",
       "      <td>1</td>\n",
       "      <td>8990.0</td>\n",
       "      <td>9/27/2020</td>\n",
       "      <td>1</td>\n",
       "      <td>1</td>\n",
       "    </tr>\n",
       "    <tr>\n",
       "      <th>1</th>\n",
       "      <td>Delhi</td>\n",
       "      <td>3</td>\n",
       "      <td>40</td>\n",
       "      <td>8990</td>\n",
       "      <td>1</td>\n",
       "      <td>8990.0</td>\n",
       "      <td>9/27/2020</td>\n",
       "      <td>1</td>\n",
       "      <td>1</td>\n",
       "    </tr>\n",
       "    <tr>\n",
       "      <th>2</th>\n",
       "      <td>Delhi</td>\n",
       "      <td>10</td>\n",
       "      <td>86</td>\n",
       "      <td>11490</td>\n",
       "      <td>1</td>\n",
       "      <td>11490.0</td>\n",
       "      <td>9/27/2020</td>\n",
       "      <td>1</td>\n",
       "      <td>2</td>\n",
       "    </tr>\n",
       "    <tr>\n",
       "      <th>3</th>\n",
       "      <td>Delhi</td>\n",
       "      <td>1</td>\n",
       "      <td>29</td>\n",
       "      <td>3600</td>\n",
       "      <td>1</td>\n",
       "      <td>3600.0</td>\n",
       "      <td>9/27/2020</td>\n",
       "      <td>2</td>\n",
       "      <td>1001</td>\n",
       "    </tr>\n",
       "    <tr>\n",
       "      <th>4</th>\n",
       "      <td>Kolkata</td>\n",
       "      <td>1</td>\n",
       "      <td>115</td>\n",
       "      <td>11999</td>\n",
       "      <td>1</td>\n",
       "      <td>11999.0</td>\n",
       "      <td>9/27/2020</td>\n",
       "      <td>3</td>\n",
       "      <td>2</td>\n",
       "    </tr>\n",
       "    <tr>\n",
       "      <th>...</th>\n",
       "      <td>...</td>\n",
       "      <td>...</td>\n",
       "      <td>...</td>\n",
       "      <td>...</td>\n",
       "      <td>...</td>\n",
       "      <td>...</td>\n",
       "      <td>...</td>\n",
       "      <td>...</td>\n",
       "      <td>...</td>\n",
       "    </tr>\n",
       "    <tr>\n",
       "      <th>1692</th>\n",
       "      <td>Lucknow</td>\n",
       "      <td>1</td>\n",
       "      <td>51</td>\n",
       "      <td>1650</td>\n",
       "      <td>1</td>\n",
       "      <td>1410.0</td>\n",
       "      <td>10/6/2020</td>\n",
       "      <td>6</td>\n",
       "      <td>1001</td>\n",
       "    </tr>\n",
       "    <tr>\n",
       "      <th>1693</th>\n",
       "      <td>Lucknow</td>\n",
       "      <td>3</td>\n",
       "      <td>509</td>\n",
       "      <td>12500</td>\n",
       "      <td>1</td>\n",
       "      <td>12500.0</td>\n",
       "      <td>10/6/2020</td>\n",
       "      <td>3</td>\n",
       "      <td>2</td>\n",
       "    </tr>\n",
       "    <tr>\n",
       "      <th>1694</th>\n",
       "      <td>Lucknow</td>\n",
       "      <td>9</td>\n",
       "      <td>415</td>\n",
       "      <td>1650</td>\n",
       "      <td>1</td>\n",
       "      <td>1410.0</td>\n",
       "      <td>10/8/2020</td>\n",
       "      <td>6</td>\n",
       "      <td>1001</td>\n",
       "    </tr>\n",
       "    <tr>\n",
       "      <th>1695</th>\n",
       "      <td>Chennai</td>\n",
       "      <td>7</td>\n",
       "      <td>139</td>\n",
       "      <td>8590</td>\n",
       "      <td>1</td>\n",
       "      <td>8590.0</td>\n",
       "      <td>10/5/2020</td>\n",
       "      <td>8</td>\n",
       "      <td>1</td>\n",
       "    </tr>\n",
       "    <tr>\n",
       "      <th>1704</th>\n",
       "      <td>Thiruvananthapuram</td>\n",
       "      <td>10</td>\n",
       "      <td>453</td>\n",
       "      <td>1499</td>\n",
       "      <td>1</td>\n",
       "      <td>1499.0</td>\n",
       "      <td>10/5/2020</td>\n",
       "      <td>4</td>\n",
       "      <td>1001</td>\n",
       "    </tr>\n",
       "  </tbody>\n",
       "</table>\n",
       "<p>1454 rows × 9 columns</p>\n",
       "</div>"
      ],
      "text/plain": [
       "                    City  Brand  Model  Price/Unit  Quantity   Amount  \\\n",
       "0                  Delhi      3     22        8990         1   8990.0   \n",
       "1                  Delhi      3     40        8990         1   8990.0   \n",
       "2                  Delhi     10     86       11490         1  11490.0   \n",
       "3                  Delhi      1     29        3600         1   3600.0   \n",
       "4                Kolkata      1    115       11999         1  11999.0   \n",
       "...                  ...    ...    ...         ...       ...      ...   \n",
       "1692             Lucknow      1     51        1650         1   1410.0   \n",
       "1693             Lucknow      3    509       12500         1  12500.0   \n",
       "1694             Lucknow      9    415        1650         1   1410.0   \n",
       "1695             Chennai      7    139        8590         1   8590.0   \n",
       "1704  Thiruvananthapuram     10    453        1499         1   1499.0   \n",
       "\n",
       "           Date  RAM  Internal Memory  \n",
       "0     9/27/2020    1                1  \n",
       "1     9/27/2020    1                1  \n",
       "2     9/27/2020    1                2  \n",
       "3     9/27/2020    2             1001  \n",
       "4     9/27/2020    3                2  \n",
       "...         ...  ...              ...  \n",
       "1692  10/6/2020    6             1001  \n",
       "1693  10/6/2020    3                2  \n",
       "1694  10/8/2020    6             1001  \n",
       "1695  10/5/2020    8                1  \n",
       "1704  10/5/2020    4             1001  \n",
       "\n",
       "[1454 rows x 9 columns]"
      ]
     },
     "execution_count": 79,
     "metadata": {},
     "output_type": "execute_result"
    }
   ],
   "source": [
    "data"
   ]
  },
  {
   "cell_type": "markdown",
   "metadata": {},
   "source": [
    "# Multivariate Analysis:-"
   ]
  },
  {
   "cell_type": "code",
   "execution_count": 209,
   "metadata": {},
   "outputs": [
    {
     "data": {
      "text/plain": [
       "<seaborn.axisgrid.PairGrid at 0x29aa7ca57c8>"
      ]
     },
     "execution_count": 209,
     "metadata": {},
     "output_type": "execute_result"
    },
    {
     "data": {
      "image/png": "[encoded data removed]",
      "text/plain": [
       "<Figure size 1260x1260 with 56 Axes>"
      ]
     },
     "metadata": {
      "needs_background": "light"
     },
     "output_type": "display_data"
    }
   ],
   "source": [
    "sns.pairplot(data)"
   ]
  },
  {
   "cell_type": "markdown",
   "metadata": {},
   "source": [
    "# Feature Engineering:-"
   ]
  },
  {
   "cell_type": "code",
   "execution_count": 80,
   "metadata": {},
   "outputs": [
    {
     "data": {
      "text/plain": [
       "array(['Delhi', 'Kolkata', 'Chennai', 'Ahmedabad', 'Lucknow', 'Ludhiana',\n",
       "       'Kanpur', 'Thiruvananthapuram', 'Hyderabad', 'Mumbai', 'Surat',\n",
       "       'Bangalore'], dtype=object)"
      ]
     },
     "execution_count": 80,
     "metadata": {},
     "output_type": "execute_result"
    }
   ],
   "source": [
    "data.City.unique()"
   ]
  },
  {
   "cell_type": "code",
   "execution_count": 81,
   "metadata": {},
   "outputs": [],
   "source": [
    "data['Date']=pd.to_datetime(data.Date)"
   ]
  },
  {
   "cell_type": "code",
   "execution_count": 82,
   "metadata": {},
   "outputs": [
    {
     "name": "stderr",
     "output_type": "stream",
     "text": [
      "C:\\Users\\91996\\anaconda3\\lib\\site-packages\\ipykernel_launcher.py:3: FutureWarning: Series.dt.weekofyear and Series.dt.week have been deprecated.  Please use Series.dt.isocalendar().week instead.\n",
      "  This is separate from the ipykernel package so we can avoid doing imports until\n"
     ]
    }
   ],
   "source": [
    "data['month']=list(data.Date.dt.month)\n",
    "data['day']=list(data.Date.dt.day)\n",
    "data['weekofyear']=list(data.Date.dt.weekofyear)\n",
    "data['quarter']=list(data.Date.dt.quarter)\n",
    "data['dayofweek']=list(data.Date.dt.dayofweek)"
   ]
  },
  {
   "cell_type": "code",
   "execution_count": 83,
   "metadata": {},
   "outputs": [],
   "source": [
    "del data['Date']"
   ]
  },
  {
   "cell_type": "code",
   "execution_count": 84,
   "metadata": {},
   "outputs": [],
   "source": [
    "mapping_city=dict(data.City.value_counts())"
   ]
  },
  {
   "cell_type": "code",
   "execution_count": 29,
   "metadata": {},
   "outputs": [
    {
     "data": {
      "text/plain": [
       "{'Lucknow': 525,\n",
       " 'Delhi': 387,\n",
       " 'Kolkata': 230,\n",
       " 'Chennai': 123,\n",
       " 'Ludhiana': 61,\n",
       " 'Thiruvananthapuram': 59,\n",
       " 'Kanpur': 39,\n",
       " 'Hyderabad': 12,\n",
       " 'Bangalore': 8,\n",
       " 'Ahmedabad': 6,\n",
       " 'Mumbai': 3,\n",
       " 'Surat': 1}"
      ]
     },
     "execution_count": 29,
     "metadata": {},
     "output_type": "execute_result"
    }
   ],
   "source": [
    "mapping_city"
   ]
  },
  {
   "cell_type": "code",
   "execution_count": 85,
   "metadata": {},
   "outputs": [],
   "source": [
    "data.loc[:, \"City\"] = data.City.map(mapping_city)"
   ]
  },
  {
   "cell_type": "code",
   "execution_count": 86,
   "metadata": {},
   "outputs": [],
   "source": [
    "quantity_list=list(data.Quantity)\n",
    "Amount_list=list(data.Amount)\n",
    "del data['Quantity']\n",
    "del data['Amount']"
   ]
  },
  {
   "cell_type": "code",
   "execution_count": 87,
   "metadata": {},
   "outputs": [],
   "source": [
    "y=[]\n",
    "for i in range(len(quantity_list)):\n",
    "    new_list=[]\n",
    "    new_list.append(quantity_list[i])\n",
    "    new_list.append(Amount_list[i])\n",
    "    y.append(new_list)"
   ]
  },
  {
   "cell_type": "code",
   "execution_count": 88,
   "metadata": {},
   "outputs": [],
   "source": [
    "y=np.asarray(y)"
   ]
  },
  {
   "cell_type": "markdown",
   "metadata": {},
   "source": [
    "# Feature Selection:-"
   ]
  },
  {
   "cell_type": "code",
   "execution_count": 89,
   "metadata": {},
   "outputs": [],
   "source": [
    "from sklearn.model_selection import train_test_split\n",
    "X_train, X_test, y_train, y_test = train_test_split(data, y, test_size=0.20, random_state=42)"
   ]
  },
  {
   "cell_type": "code",
   "execution_count": 90,
   "metadata": {},
   "outputs": [
    {
     "data": {
      "text/plain": [
       "array([   1,    2, 1001,    3,    4,    5,    6], dtype=int64)"
      ]
     },
     "execution_count": 90,
     "metadata": {},
     "output_type": "execute_result"
    }
   ],
   "source": [
    "data['Internal Memory'].unique()"
   ]
  },
  {
   "cell_type": "code",
   "execution_count": 91,
   "metadata": {},
   "outputs": [],
   "source": [
    "from mlxtend.feature_selection import SequentialFeatureSelector as SFS\n",
    "from sklearn.ensemble import RandomForestRegressor"
   ]
  },
  {
   "cell_type": "code",
   "execution_count": 260,
   "metadata": {},
   "outputs": [
    {
     "name": "stderr",
     "output_type": "stream",
     "text": [
      "[Parallel(n_jobs=-1)]: Using backend LokyBackend with 8 concurrent workers.\n",
      "[Parallel(n_jobs=-1)]: Done   2 out of  11 | elapsed:    4.4s remaining:   20.2s\n",
      "[Parallel(n_jobs=-1)]: Done   8 out of  11 | elapsed:    5.4s remaining:    2.0s\n",
      "[Parallel(n_jobs=-1)]: Done  11 out of  11 | elapsed:    7.8s finished\n",
      "\n",
      "[2021-08-11 17:03:34] Features: 1/11 -- score: -1548.1891422747424[Parallel(n_jobs=-1)]: Using backend LokyBackend with 8 concurrent workers.\n",
      "[Parallel(n_jobs=-1)]: Done   7 out of  10 | elapsed:    5.3s remaining:    2.2s\n",
      "[Parallel(n_jobs=-1)]: Done  10 out of  10 | elapsed:    7.7s finished\n",
      "\n",
      "[2021-08-11 17:03:42] Features: 2/11 -- score: -1228.8175717760798[Parallel(n_jobs=-1)]: Using backend LokyBackend with 8 concurrent workers.\n",
      "[Parallel(n_jobs=-1)]: Done   4 out of   9 | elapsed:    5.6s remaining:    7.0s\n",
      "[Parallel(n_jobs=-1)]: Done   9 out of   9 | elapsed:    7.8s remaining:    0.0s\n",
      "[Parallel(n_jobs=-1)]: Done   9 out of   9 | elapsed:    7.8s finished\n",
      "\n",
      "[2021-08-11 17:03:50] Features: 3/11 -- score: -1107.8795796998822[Parallel(n_jobs=-1)]: Using backend LokyBackend with 8 concurrent workers.\n",
      "[Parallel(n_jobs=-1)]: Done   3 out of   8 | elapsed:    5.9s remaining:    9.9s\n",
      "[Parallel(n_jobs=-1)]: Done   8 out of   8 | elapsed:    6.4s remaining:    0.0s\n",
      "[Parallel(n_jobs=-1)]: Done   8 out of   8 | elapsed:    6.4s finished\n",
      "\n",
      "[2021-08-11 17:03:56] Features: 4/11 -- score: -1072.2031219154774[Parallel(n_jobs=-1)]: Using backend LokyBackend with 8 concurrent workers.\n",
      "[Parallel(n_jobs=-1)]: Done   4 out of   7 | elapsed:    5.5s remaining:    4.1s\n",
      "[Parallel(n_jobs=-1)]: Done   7 out of   7 | elapsed:    5.8s finished\n",
      "\n",
      "[2021-08-11 17:04:02] Features: 5/11 -- score: -1062.7109050720917[Parallel(n_jobs=-1)]: Using backend LokyBackend with 8 concurrent workers.\n",
      "[Parallel(n_jobs=-1)]: Done   3 out of   6 | elapsed:    5.0s remaining:    5.0s\n",
      "[Parallel(n_jobs=-1)]: Done   6 out of   6 | elapsed:    5.4s finished\n",
      "\n",
      "[2021-08-11 17:04:08] Features: 6/11 -- score: -1057.6925098016904[Parallel(n_jobs=-1)]: Using backend LokyBackend with 8 concurrent workers.\n",
      "[Parallel(n_jobs=-1)]: Done   2 out of   5 | elapsed:    4.4s remaining:    6.7s\n",
      "[Parallel(n_jobs=-1)]: Done   5 out of   5 | elapsed:    4.7s remaining:    0.0s\n",
      "[Parallel(n_jobs=-1)]: Done   5 out of   5 | elapsed:    4.7s finished\n",
      "\n",
      "[2021-08-11 17:04:12] Features: 7/11 -- score: -1048.06932390486[Parallel(n_jobs=-1)]: Using backend LokyBackend with 8 concurrent workers.\n",
      "[Parallel(n_jobs=-1)]: Done   4 out of   4 | elapsed:    4.1s remaining:    0.0s\n",
      "[Parallel(n_jobs=-1)]: Done   4 out of   4 | elapsed:    4.1s finished\n",
      "\n",
      "[2021-08-11 17:04:17] Features: 8/11 -- score: -1044.5648219402633[Parallel(n_jobs=-1)]: Using backend LokyBackend with 8 concurrent workers.\n",
      "[Parallel(n_jobs=-1)]: Done   3 out of   3 | elapsed:    3.8s finished\n",
      "\n",
      "[2021-08-11 17:04:20] Features: 9/11 -- score: -1038.3048784500925[Parallel(n_jobs=-1)]: Using backend LokyBackend with 8 concurrent workers.\n",
      "[Parallel(n_jobs=-1)]: Done   2 out of   2 | elapsed:    3.2s finished\n",
      "\n",
      "[2021-08-11 17:04:24] Features: 10/11 -- score: -1039.2828344953443[Parallel(n_jobs=-1)]: Using backend LokyBackend with 8 concurrent workers.\n",
      "[Parallel(n_jobs=-1)]: Done   1 out of   1 | elapsed:    2.5s finished\n",
      "\n",
      "[2021-08-11 17:04:26] Features: 11/11 -- score: -1039.567949612697"
     ]
    }
   ],
   "source": [
    "forward_selection=SFS(RandomForestRegressor(n_estimators=200,random_state=10,n_jobs=-1),\n",
    "    k_features=11,forward=True,floating=False,verbose=2,scoring='neg_root_mean_squared_error',\n",
    "   cv=5,n_jobs=-1).fit(X_train,y_train)"
   ]
  },
  {
   "cell_type": "code",
   "execution_count": 263,
   "metadata": {},
   "outputs": [
    {
     "name": "stderr",
     "output_type": "stream",
     "text": [
      "[Parallel(n_jobs=-1)]: Using backend LokyBackend with 8 concurrent workers.\n",
      "[Parallel(n_jobs=-1)]: Done   2 out of  11 | elapsed:    4.1s remaining:   18.9s\n",
      "[Parallel(n_jobs=-1)]: Done   8 out of  11 | elapsed:    4.8s remaining:    1.7s\n",
      "[Parallel(n_jobs=-1)]: Done  11 out of  11 | elapsed:    7.2s finished\n",
      "\n",
      "[2021-08-11 17:06:04] Features: 1/9 -- score: -1548.1891422747424[Parallel(n_jobs=-1)]: Using backend LokyBackend with 8 concurrent workers.\n",
      "[Parallel(n_jobs=-1)]: Done   7 out of  10 | elapsed:    4.9s remaining:    2.0s\n",
      "[Parallel(n_jobs=-1)]: Done  10 out of  10 | elapsed:    7.4s finished\n",
      "\n",
      "[2021-08-11 17:06:11] Features: 2/9 -- score: -1228.8175717760798[Parallel(n_jobs=-1)]: Using backend LokyBackend with 8 concurrent workers.\n",
      "[Parallel(n_jobs=-1)]: Done   4 out of   9 | elapsed:    6.6s remaining:    8.2s\n",
      "[Parallel(n_jobs=-1)]: Done   9 out of   9 | elapsed:    9.3s remaining:    0.0s\n",
      "[Parallel(n_jobs=-1)]: Done   9 out of   9 | elapsed:    9.3s finished\n",
      "\n",
      "[2021-08-11 17:06:20] Features: 3/9 -- score: -1107.8795796998822[Parallel(n_jobs=-1)]: Using backend LokyBackend with 8 concurrent workers.\n",
      "[Parallel(n_jobs=-1)]: Done   3 out of   8 | elapsed:    5.6s remaining:    9.3s\n",
      "[Parallel(n_jobs=-1)]: Done   8 out of   8 | elapsed:    6.1s remaining:    0.0s\n",
      "[Parallel(n_jobs=-1)]: Done   8 out of   8 | elapsed:    6.1s finished\n",
      "\n",
      "[2021-08-11 17:06:27] Features: 4/9 -- score: -1072.2031219154774[Parallel(n_jobs=-1)]: Using backend LokyBackend with 8 concurrent workers.\n",
      "[Parallel(n_jobs=-1)]: Done   4 out of   7 | elapsed:    5.1s remaining:    3.8s\n",
      "[Parallel(n_jobs=-1)]: Done   7 out of   7 | elapsed:    5.6s finished\n",
      "\n",
      "[2021-08-11 17:06:32] Features: 5/9 -- score: -1062.7109050720917[Parallel(n_jobs=-1)]: Using backend LokyBackend with 8 concurrent workers.\n",
      "[Parallel(n_jobs=-1)]: Done   3 out of   6 | elapsed:    5.3s remaining:    5.3s\n",
      "[Parallel(n_jobs=-1)]: Done   6 out of   6 | elapsed:    5.7s finished\n",
      "\n",
      "[2021-08-11 17:06:38] Features: 6/9 -- score: -1057.6925098016904[Parallel(n_jobs=-1)]: Using backend LokyBackend with 8 concurrent workers.\n",
      "[Parallel(n_jobs=-1)]: Done   2 out of   5 | elapsed:    4.6s remaining:    7.0s\n",
      "[Parallel(n_jobs=-1)]: Done   5 out of   5 | elapsed:    5.0s remaining:    0.0s\n",
      "[Parallel(n_jobs=-1)]: Done   5 out of   5 | elapsed:    5.0s finished\n",
      "\n",
      "[2021-08-11 17:06:43] Features: 7/9 -- score: -1048.06932390486[Parallel(n_jobs=-1)]: Using backend LokyBackend with 8 concurrent workers.\n",
      "[Parallel(n_jobs=-1)]: Done   4 out of   4 | elapsed:    4.5s remaining:    0.0s\n",
      "[Parallel(n_jobs=-1)]: Done   4 out of   4 | elapsed:    4.5s finished\n",
      "\n",
      "[2021-08-11 17:06:48] Features: 8/9 -- score: -1044.5648219402633[Parallel(n_jobs=-1)]: Using backend LokyBackend with 8 concurrent workers.\n",
      "[Parallel(n_jobs=-1)]: Done   3 out of   3 | elapsed:    3.8s finished\n",
      "\n",
      "[2021-08-11 17:06:52] Features: 9/9 -- score: -1038.3048784500925"
     ]
    }
   ],
   "source": [
    "forward_selection_subset=SFS(RandomForestRegressor(n_estimators=200,random_state=10,n_jobs=-1),\n",
    "    k_features=9,forward=True,floating=False,verbose=2,scoring='neg_root_mean_squared_error',\n",
    "   cv=5,n_jobs=-1).fit(X_train,y_train)"
   ]
  },
  {
   "cell_type": "code",
   "execution_count": 264,
   "metadata": {},
   "outputs": [
    {
     "data": {
      "text/plain": [
       "('City',\n",
       " 'Brand',\n",
       " 'Model',\n",
       " 'Price/Unit',\n",
       " 'RAM',\n",
       " 'Internal Memory',\n",
       " 'day',\n",
       " 'weekofyear',\n",
       " 'dayofweek')"
      ]
     },
     "execution_count": 264,
     "metadata": {},
     "output_type": "execute_result"
    }
   ],
   "source": [
    "forward_selection_subset.k_feature_names_"
   ]
  },
  {
   "cell_type": "code",
   "execution_count": 265,
   "metadata": {},
   "outputs": [
    {
     "data": {
      "text/plain": [
       "-1038.3048784500925"
      ]
     },
     "execution_count": 265,
     "metadata": {},
     "output_type": "execute_result"
    }
   ],
   "source": [
    "forward_selection_subset.k_score_"
   ]
  },
  {
   "cell_type": "code",
   "execution_count": 92,
   "metadata": {},
   "outputs": [],
   "source": [
    "from mlxtend.feature_selection import ExhaustiveFeatureSelector as EFS"
   ]
  },
  {
   "cell_type": "code",
   "execution_count": 93,
   "metadata": {},
   "outputs": [],
   "source": [
    "final_dataset_train=X_train[['City',\n",
    " 'Brand',\n",
    " 'Model',\n",
    " 'Price/Unit',\n",
    " 'RAM',\n",
    " 'Internal Memory',\n",
    " 'day',\n",
    " 'weekofyear',\n",
    " 'dayofweek']]\n",
    "final_dataset_test=X_test[['City',\n",
    " 'Brand',\n",
    " 'Model',\n",
    " 'Price/Unit',\n",
    " 'RAM',\n",
    " 'Internal Memory',\n",
    " 'day',\n",
    " 'weekofyear',\n",
    " 'dayofweek']]"
   ]
  },
  {
   "cell_type": "code",
   "execution_count": 94,
   "metadata": {},
   "outputs": [
    {
     "data": {
      "text/html": [
       "<div>\n",
       "<style scoped>\n",
       "    .dataframe tbody tr th:only-of-type {\n",
       "        vertical-align: middle;\n",
       "    }\n",
       "\n",
       "    .dataframe tbody tr th {\n",
       "        vertical-align: top;\n",
       "    }\n",
       "\n",
       "    .dataframe thead th {\n",
       "        text-align: right;\n",
       "    }\n",
       "</style>\n",
       "<table border=\"1\" class=\"dataframe\">\n",
       "  <thead>\n",
       "    <tr style=\"text-align: right;\">\n",
       "      <th></th>\n",
       "      <th>City</th>\n",
       "      <th>Brand</th>\n",
       "      <th>Model</th>\n",
       "      <th>Price/Unit</th>\n",
       "      <th>RAM</th>\n",
       "      <th>Internal Memory</th>\n",
       "      <th>day</th>\n",
       "      <th>weekofyear</th>\n",
       "      <th>dayofweek</th>\n",
       "    </tr>\n",
       "  </thead>\n",
       "  <tbody>\n",
       "    <tr>\n",
       "      <th>798</th>\n",
       "      <td>123</td>\n",
       "      <td>4</td>\n",
       "      <td>258</td>\n",
       "      <td>14499</td>\n",
       "      <td>3</td>\n",
       "      <td>2</td>\n",
       "      <td>5</td>\n",
       "      <td>41</td>\n",
       "      <td>0</td>\n",
       "    </tr>\n",
       "    <tr>\n",
       "      <th>283</th>\n",
       "      <td>387</td>\n",
       "      <td>2</td>\n",
       "      <td>76</td>\n",
       "      <td>10500</td>\n",
       "      <td>3</td>\n",
       "      <td>2</td>\n",
       "      <td>27</td>\n",
       "      <td>39</td>\n",
       "      <td>6</td>\n",
       "    </tr>\n",
       "    <tr>\n",
       "      <th>1272</th>\n",
       "      <td>230</td>\n",
       "      <td>2</td>\n",
       "      <td>7</td>\n",
       "      <td>15499</td>\n",
       "      <td>3</td>\n",
       "      <td>2</td>\n",
       "      <td>1</td>\n",
       "      <td>40</td>\n",
       "      <td>3</td>\n",
       "    </tr>\n",
       "    <tr>\n",
       "      <th>706</th>\n",
       "      <td>525</td>\n",
       "      <td>10</td>\n",
       "      <td>133</td>\n",
       "      <td>800</td>\n",
       "      <td>3</td>\n",
       "      <td>2</td>\n",
       "      <td>1</td>\n",
       "      <td>40</td>\n",
       "      <td>3</td>\n",
       "    </tr>\n",
       "    <tr>\n",
       "      <th>1466</th>\n",
       "      <td>525</td>\n",
       "      <td>2</td>\n",
       "      <td>28</td>\n",
       "      <td>1300</td>\n",
       "      <td>1</td>\n",
       "      <td>1</td>\n",
       "      <td>1</td>\n",
       "      <td>40</td>\n",
       "      <td>3</td>\n",
       "    </tr>\n",
       "    <tr>\n",
       "      <th>...</th>\n",
       "      <td>...</td>\n",
       "      <td>...</td>\n",
       "      <td>...</td>\n",
       "      <td>...</td>\n",
       "      <td>...</td>\n",
       "      <td>...</td>\n",
       "      <td>...</td>\n",
       "      <td>...</td>\n",
       "      <td>...</td>\n",
       "    </tr>\n",
       "    <tr>\n",
       "      <th>1229</th>\n",
       "      <td>387</td>\n",
       "      <td>2</td>\n",
       "      <td>6</td>\n",
       "      <td>1350</td>\n",
       "      <td>4</td>\n",
       "      <td>1001</td>\n",
       "      <td>7</td>\n",
       "      <td>41</td>\n",
       "      <td>2</td>\n",
       "    </tr>\n",
       "    <tr>\n",
       "      <th>1274</th>\n",
       "      <td>387</td>\n",
       "      <td>6</td>\n",
       "      <td>79</td>\n",
       "      <td>1200</td>\n",
       "      <td>16</td>\n",
       "      <td>1001</td>\n",
       "      <td>3</td>\n",
       "      <td>40</td>\n",
       "      <td>5</td>\n",
       "    </tr>\n",
       "    <tr>\n",
       "      <th>1474</th>\n",
       "      <td>525</td>\n",
       "      <td>2</td>\n",
       "      <td>15</td>\n",
       "      <td>10800</td>\n",
       "      <td>3</td>\n",
       "      <td>2</td>\n",
       "      <td>4</td>\n",
       "      <td>40</td>\n",
       "      <td>6</td>\n",
       "    </tr>\n",
       "    <tr>\n",
       "      <th>948</th>\n",
       "      <td>387</td>\n",
       "      <td>1</td>\n",
       "      <td>65</td>\n",
       "      <td>1300</td>\n",
       "      <td>20</td>\n",
       "      <td>1001</td>\n",
       "      <td>5</td>\n",
       "      <td>41</td>\n",
       "      <td>0</td>\n",
       "    </tr>\n",
       "    <tr>\n",
       "      <th>1270</th>\n",
       "      <td>525</td>\n",
       "      <td>4</td>\n",
       "      <td>170</td>\n",
       "      <td>1300</td>\n",
       "      <td>9</td>\n",
       "      <td>2</td>\n",
       "      <td>2</td>\n",
       "      <td>40</td>\n",
       "      <td>4</td>\n",
       "    </tr>\n",
       "  </tbody>\n",
       "</table>\n",
       "<p>1163 rows × 9 columns</p>\n",
       "</div>"
      ],
      "text/plain": [
       "      City  Brand  Model  Price/Unit  RAM  Internal Memory  day  weekofyear  \\\n",
       "798    123      4    258       14499    3                2    5          41   \n",
       "283    387      2     76       10500    3                2   27          39   \n",
       "1272   230      2      7       15499    3                2    1          40   \n",
       "706    525     10    133         800    3                2    1          40   \n",
       "1466   525      2     28        1300    1                1    1          40   \n",
       "...    ...    ...    ...         ...  ...              ...  ...         ...   \n",
       "1229   387      2      6        1350    4             1001    7          41   \n",
       "1274   387      6     79        1200   16             1001    3          40   \n",
       "1474   525      2     15       10800    3                2    4          40   \n",
       "948    387      1     65        1300   20             1001    5          41   \n",
       "1270   525      4    170        1300    9                2    2          40   \n",
       "\n",
       "      dayofweek  \n",
       "798           0  \n",
       "283           6  \n",
       "1272          3  \n",
       "706           3  \n",
       "1466          3  \n",
       "...         ...  \n",
       "1229          2  \n",
       "1274          5  \n",
       "1474          6  \n",
       "948           0  \n",
       "1270          4  \n",
       "\n",
       "[1163 rows x 9 columns]"
      ]
     },
     "execution_count": 94,
     "metadata": {},
     "output_type": "execute_result"
    }
   ],
   "source": [
    "final_dataset_train"
   ]
  },
  {
   "cell_type": "code",
   "execution_count": 95,
   "metadata": {},
   "outputs": [],
   "source": [
    "X_train_array=final_dataset_train.values\n",
    "X_test_array=final_dataset_test.values"
   ]
  },
  {
   "cell_type": "markdown",
   "metadata": {},
   "source": [
    "# Modelling:-"
   ]
  },
  {
   "cell_type": "markdown",
   "metadata": {},
   "source": [
    "# Random forest"
   ]
  },
  {
   "cell_type": "code",
   "execution_count": 274,
   "metadata": {},
   "outputs": [],
   "source": [
    "n_estimators=[100,150,200]\n",
    "max_depth=[20,30,40,None]\n",
    "min_samples_split=[2,4,6]\n",
    "min_samples_leaf=[1,2,3,4]\n",
    "max_features=[20,30,\"auto\",\"sqrt\",\"log2\"]\n",
    "max_leaf_nodes=[None,2,4,8]\n",
    "ccp_alpha=[0.0,0.00001,0.0001]"
   ]
  },
  {
   "cell_type": "code",
   "execution_count": 275,
   "metadata": {},
   "outputs": [],
   "source": [
    "parameters=dict(n_estimators=n_estimators,max_depth=max_depth,min_samples_split=min_samples_split,min_samples_leaf=min_samples_leaf,max_features=max_features,max_leaf_nodes=max_leaf_nodes,ccp_alpha=ccp_alpha)"
   ]
  },
  {
   "cell_type": "code",
   "execution_count": 281,
   "metadata": {},
   "outputs": [],
   "source": [
    "rf_model=RandomForestRegressor(criterion='mse',bootstrap=True,n_jobs=-1,verbose=3)"
   ]
  },
  {
   "cell_type": "code",
   "execution_count": 282,
   "metadata": {},
   "outputs": [],
   "source": [
    "from sklearn.model_selection import RandomizedSearchCV\n",
    "crosscvrf=RandomizedSearchCV(estimator=rf_model,param_distributions=parameters,scoring='neg_root_mean_squared_error',n_jobs=-1,cv=8,verbose=3,return_train_score=True,n_iter=10)"
   ]
  },
  {
   "cell_type": "code",
   "execution_count": 283,
   "metadata": {},
   "outputs": [
    {
     "name": "stdout",
     "output_type": "stream",
     "text": [
      "Fitting 8 folds for each of 10 candidates, totalling 80 fits\n"
     ]
    },
    {
     "name": "stderr",
     "output_type": "stream",
     "text": [
      "[Parallel(n_jobs=-1)]: Using backend LokyBackend with 8 concurrent workers.\n",
      "[Parallel(n_jobs=-1)]: Done  16 tasks      | elapsed:    2.1s\n",
      "[Parallel(n_jobs=-1)]: Done  80 out of  80 | elapsed:    7.4s finished\n",
      "[Parallel(n_jobs=-1)]: Using backend ThreadingBackend with 8 concurrent workers.\n",
      "[Parallel(n_jobs=-1)]: Done  16 tasks      | elapsed:    0.0s\n"
     ]
    },
    {
     "name": "stdout",
     "output_type": "stream",
     "text": [
      "building tree 1 of 150\n",
      "building tree 2 of 150building tree 3 of 150\n",
      "\n",
      "building tree 4 of 150\n",
      "building tree 5 of 150\n",
      "building tree 6 of 150\n",
      "building tree 7 of 150\n",
      "building tree 8 of 150\n",
      "building tree 9 of 150\n",
      "building tree 10 of 150building tree 11 of 150\n",
      "building tree 12 of 150\n",
      "building tree 13 of 150\n",
      "building tree 14 of 150building tree 15 of 150\n",
      "\n",
      "building tree 16 of 150\n",
      "\n",
      "building tree 17 of 150\n",
      "building tree 18 of 150\n",
      "building tree 19 of 150building tree 20 of 150building tree 21 of 150\n",
      "\n",
      "\n",
      "building tree 22 of 150\n",
      "building tree 23 of 150\n",
      "building tree 24 of 150\n",
      "building tree 25 of 150\n",
      "building tree 26 of 150building tree 27 of 150\n",
      "building tree 28 of 150\n",
      "\n",
      "building tree 29 of 150\n",
      "building tree 30 of 150\n",
      "building tree 31 of 150\n",
      "building tree 32 of 150building tree 33 of 150\n",
      "\n",
      "building tree 34 of 150building tree 35 of 150\n",
      "\n",
      "building tree 36 of 150\n",
      "building tree 37 of 150building tree 38 of 150\n",
      "\n",
      "building tree 39 of 150\n",
      "building tree 40 of 150building tree 41 of 150\n",
      "building tree 42 of 150\n",
      "building tree 43 of 150\n",
      "building tree 44 of 150\n",
      "\n",
      "building tree 45 of 150\n",
      "building tree 46 of 150\n",
      "building tree 47 of 150\n",
      "building tree 48 of 150\n",
      "building tree 49 of 150\n",
      "building tree 50 of 150\n",
      "building tree 51 of 150\n",
      "building tree 52 of 150\n",
      "building tree 53 of 150building tree 54 of 150\n",
      "building tree 55 of 150\n",
      "\n",
      "building tree 56 of 150\n",
      "building tree 57 of 150\n",
      "building tree 58 of 150\n",
      "building tree 59 of 150building tree 60 of 150\n",
      "\n",
      "building tree 61 of 150\n",
      "building tree 62 of 150\n",
      "building tree 63 of 150\n",
      "building tree 64 of 150building tree 65 of 150\n",
      "\n",
      "building tree 66 of 150building tree 67 of 150\n",
      "\n",
      "building tree 68 of 150building tree 69 of 150\n",
      "building tree 70 of 150\n",
      "\n",
      "building tree 71 of 150\n",
      "building tree 72 of 150building tree 73 of 150\n",
      "\n",
      "building tree 74 of 150\n",
      "building tree 75 of 150building tree 76 of 150\n",
      "building tree 77 of 150\n",
      "\n",
      "building tree 78 of 150\n",
      "building tree 79 of 150\n",
      "building tree 80 of 150\n",
      "building tree 81 of 150\n",
      "building tree 82 of 150building tree 83 of 150building tree 84 of 150\n",
      "\n",
      "building tree 85 of 150\n",
      "building tree 86 of 150building tree 87 of 150\n",
      "\n",
      "\n",
      "building tree 88 of 150building tree 89 of 150\n",
      "building tree 90 of 150building tree 91 of 150\n",
      "\n",
      "building tree 92 of 150\n",
      "\n",
      "building tree 93 of 150building tree 94 of 150\n",
      "\n",
      "building tree 95 of 150\n",
      "building tree 96 of 150\n",
      "building tree 97 of 150building tree 98 of 150\n",
      "building tree 99 of 150\n",
      "\n",
      "building tree 100 of 150\n",
      "building tree 101 of 150building tree 102 of 150\n",
      "\n",
      "building tree 103 of 150\n",
      "building tree 104 of 150building tree 105 of 150building tree 106 of 150building tree 107 of 150\n",
      "\n",
      "\n",
      "building tree 108 of 150\n",
      "\n",
      "building tree 109 of 150building tree 110 of 150\n",
      "building tree 111 of 150\n",
      "\n",
      "building tree 112 of 150\n",
      "building tree 113 of 150\n",
      "building tree 114 of 150building tree 115 of 150\n",
      "\n",
      "building tree 116 of 150building tree 117 of 150\n",
      "building tree 118 of 150\n",
      "\n",
      "building tree 119 of 150\n",
      "building tree 120 of 150\n",
      "building tree 121 of 150\n",
      "building tree 122 of 150building tree 123 of 150\n",
      "\n",
      "building tree 124 of 150building tree 125 of 150\n",
      "\n",
      "building tree 126 of 150\n",
      "building tree 127 of 150\n",
      "building tree 128 of 150\n",
      "building tree 129 of 150building tree 130 of 150\n",
      "building tree 131 of 150\n",
      "building tree 132 of 150\n",
      "\n",
      "building tree 133 of 150\n",
      "building tree 134 of 150\n",
      "building tree 135 of 150\n",
      "building tree 136 of 150\n",
      "building tree 137 of 150building tree 138 of 150\n",
      "building tree 139 of 150\n",
      "\n",
      "building tree 140 of 150\n",
      "building tree 141 of 150\n",
      "building tree 142 of 150\n",
      "building tree 143 of 150\n",
      "building tree 144 of 150\n",
      "building tree 145 of 150building tree 146 of 150\n",
      "\n",
      "building tree 147 of 150building tree 148 of 150\n",
      "building tree 149 of 150\n",
      "\n",
      "building tree 150 of 150\n"
     ]
    },
    {
     "name": "stderr",
     "output_type": "stream",
     "text": [
      "[Parallel(n_jobs=-1)]: Done 112 tasks      | elapsed:    0.1s\n",
      "[Parallel(n_jobs=-1)]: Done 150 out of 150 | elapsed:    0.1s finished\n"
     ]
    }
   ],
   "source": [
    "random_forest_model=crosscvrf.fit(X_train,y_train)"
   ]
  },
  {
   "cell_type": "code",
   "execution_count": 285,
   "metadata": {},
   "outputs": [
    {
     "data": {
      "text/plain": [
       "{'n_estimators': 150,\n",
       " 'min_samples_split': 2,\n",
       " 'min_samples_leaf': 3,\n",
       " 'max_leaf_nodes': None,\n",
       " 'max_features': 'log2',\n",
       " 'max_depth': 20,\n",
       " 'ccp_alpha': 1e-05}"
      ]
     },
     "execution_count": 285,
     "metadata": {},
     "output_type": "execute_result"
    }
   ],
   "source": [
    "random_forest_model.best_params_"
   ]
  },
  {
   "cell_type": "code",
   "execution_count": 292,
   "metadata": {},
   "outputs": [],
   "source": [
    "rf_model_final=RandomForestRegressor(criterion='mse',bootstrap=True,n_jobs=-1,verbose=3,n_estimators=150,min_samples_split=2,min_samples_leaf=3,max_leaf_nodes=None,max_features='log2',max_depth= 20,ccp_alpha=1e-05)                                 \n",
    "                             "
   ]
  },
  {
   "cell_type": "code",
   "execution_count": 293,
   "metadata": {},
   "outputs": [
    {
     "name": "stderr",
     "output_type": "stream",
     "text": [
      "[Parallel(n_jobs=-1)]: Using backend ThreadingBackend with 8 concurrent workers.\n",
      "[Parallel(n_jobs=-1)]: Done  16 tasks      | elapsed:    0.0s\n",
      "[Parallel(n_jobs=-1)]: Done 112 tasks      | elapsed:    0.1s\n"
     ]
    },
    {
     "name": "stdout",
     "output_type": "stream",
     "text": [
      "building tree 1 of 150building tree 2 of 150\n",
      "\n",
      "building tree 3 of 150\n",
      "building tree 4 of 150\n",
      "building tree 5 of 150\n",
      "building tree 6 of 150\n",
      "building tree 7 of 150building tree 8 of 150\n",
      "\n",
      "building tree 9 of 150building tree 10 of 150\n",
      "\n",
      "building tree 11 of 150\n",
      "building tree 12 of 150building tree 13 of 150building tree 14 of 150\n",
      "\n",
      "building tree 15 of 150\n",
      "\n",
      "building tree 16 of 150\n",
      "building tree 17 of 150building tree 18 of 150\n",
      "\n",
      "building tree 19 of 150\n",
      "building tree 20 of 150building tree 21 of 150\n",
      "building tree 22 of 150building tree 23 of 150\n",
      "building tree 24 of 150\n",
      "\n",
      "\n",
      "building tree 25 of 150building tree 26 of 150\n",
      "\n",
      "building tree 27 of 150\n",
      "building tree 28 of 150building tree 29 of 150\n",
      "\n",
      "building tree 30 of 150building tree 31 of 150building tree 32 of 150\n",
      "\n",
      "\n",
      "building tree 33 of 150building tree 34 of 150\n",
      "\n",
      "building tree 35 of 150\n",
      "building tree 36 of 150\n",
      "building tree 37 of 150\n",
      "building tree 38 of 150\n",
      "building tree 39 of 150building tree 40 of 150\n",
      "\n",
      "building tree 41 of 150\n",
      "building tree 42 of 150\n",
      "building tree 43 of 150\n",
      "building tree 44 of 150\n",
      "building tree 45 of 150\n",
      "building tree 46 of 150building tree 47 of 150\n",
      "building tree 48 of 150\n",
      "\n",
      "building tree 49 of 150\n",
      "building tree 50 of 150building tree 51 of 150\n",
      "building tree 52 of 150\n",
      "\n",
      "building tree 53 of 150\n",
      "building tree 54 of 150\n",
      "building tree 55 of 150building tree 56 of 150\n",
      "\n",
      "building tree 57 of 150building tree 58 of 150\n",
      "\n",
      "building tree 59 of 150\n",
      "building tree 60 of 150building tree 61 of 150\n",
      "\n",
      "building tree 62 of 150\n",
      "building tree 63 of 150\n",
      "building tree 64 of 150\n",
      "building tree 65 of 150\n",
      "building tree 66 of 150building tree 67 of 150\n",
      "\n",
      "building tree 68 of 150\n",
      "building tree 69 of 150building tree 70 of 150building tree 71 of 150\n",
      "\n",
      "\n",
      "building tree 72 of 150\n",
      "building tree 73 of 150\n",
      "building tree 74 of 150\n",
      "building tree 75 of 150\n",
      "building tree 76 of 150\n",
      "building tree 77 of 150building tree 78 of 150building tree 79 of 150building tree 80 of 150\n",
      "\n",
      "\n",
      "\n",
      "building tree 81 of 150building tree 82 of 150\n",
      "\n",
      "building tree 83 of 150building tree 84 of 150\n",
      "building tree 85 of 150\n",
      "\n",
      "building tree 86 of 150\n",
      "building tree 87 of 150\n",
      "building tree 88 of 150\n",
      "building tree 89 of 150\n",
      "building tree 90 of 150building tree 91 of 150building tree 92 of 150\n",
      "\n",
      "\n",
      "building tree 93 of 150\n",
      "building tree 94 of 150\n",
      "building tree 95 of 150building tree 96 of 150\n",
      "\n",
      "building tree 97 of 150building tree 98 of 150\n",
      "\n",
      "building tree 99 of 150building tree 100 of 150\n",
      "\n",
      "building tree 101 of 150building tree 102 of 150\n",
      "building tree 103 of 150building tree 104 of 150\n",
      "\n",
      "\n",
      "building tree 105 of 150\n",
      "building tree 106 of 150\n",
      "building tree 107 of 150building tree 108 of 150\n",
      "building tree 109 of 150\n",
      "building tree 110 of 150\n",
      "\n",
      "building tree 111 of 150building tree 112 of 150\n",
      "\n",
      "building tree 113 of 150\n",
      "building tree 114 of 150\n",
      "building tree 115 of 150\n",
      "building tree 116 of 150building tree 117 of 150building tree 118 of 150\n",
      "\n",
      "\n",
      "building tree 119 of 150building tree 120 of 150\n",
      "\n",
      "building tree 121 of 150\n",
      "building tree 122 of 150\n",
      "building tree 123 of 150building tree 124 of 150\n",
      "\n",
      "building tree 125 of 150\n",
      "building tree 126 of 150\n",
      "building tree 127 of 150\n",
      "building tree 128 of 150\n",
      "building tree 129 of 150\n",
      "building tree 130 of 150building tree 131 of 150\n",
      "\n",
      "building tree 132 of 150building tree 133 of 150building tree 134 of 150\n",
      "\n",
      "building tree 135 of 150\n",
      "building tree 136 of 150\n",
      "\n",
      "building tree 137 of 150\n",
      "building tree 138 of 150building tree 139 of 150\n",
      "\n",
      "building tree 140 of 150building tree 141 of 150building tree 142 of 150\n",
      "\n",
      "\n",
      "building tree 143 of 150\n",
      "building tree 144 of 150\n",
      "building tree 145 of 150\n",
      "building tree 146 of 150building tree 147 of 150building tree 148 of 150\n",
      "building tree 149 of 150\n",
      "\n",
      "\n",
      "building tree 150 of 150\n"
     ]
    },
    {
     "name": "stderr",
     "output_type": "stream",
     "text": [
      "[Parallel(n_jobs=-1)]: Done 150 out of 150 | elapsed:    0.1s finished\n"
     ]
    }
   ],
   "source": [
    "Random_forest_Model=rf_model_final.fit(X_train,y_train)"
   ]
  },
  {
   "cell_type": "code",
   "execution_count": 294,
   "metadata": {},
   "outputs": [
    {
     "name": "stderr",
     "output_type": "stream",
     "text": [
      "[Parallel(n_jobs=8)]: Using backend ThreadingBackend with 8 concurrent workers.\n",
      "[Parallel(n_jobs=8)]: Done  16 tasks      | elapsed:    0.0s\n",
      "[Parallel(n_jobs=8)]: Done 112 tasks      | elapsed:    0.0s\n",
      "[Parallel(n_jobs=8)]: Done 150 out of 150 | elapsed:    0.0s finished\n"
     ]
    }
   ],
   "source": [
    "predicted_train_score=Random_forest_Model.predict(X_train)"
   ]
  },
  {
   "cell_type": "code",
   "execution_count": 302,
   "metadata": {},
   "outputs": [
    {
     "data": {
      "text/plain": [
       "908.0593734600176"
      ]
     },
     "execution_count": 302,
     "metadata": {},
     "output_type": "execute_result"
    }
   ],
   "source": [
    "from sklearn.metrics import *\n",
    "mean_squared_error(y_train,predicted_train_score,squared=False)"
   ]
  },
  {
   "cell_type": "code",
   "execution_count": 304,
   "metadata": {},
   "outputs": [
    {
     "name": "stderr",
     "output_type": "stream",
     "text": [
      "[Parallel(n_jobs=8)]: Using backend ThreadingBackend with 8 concurrent workers.\n",
      "[Parallel(n_jobs=8)]: Done  16 tasks      | elapsed:    0.0s\n",
      "[Parallel(n_jobs=8)]: Done 112 tasks      | elapsed:    0.0s\n",
      "[Parallel(n_jobs=8)]: Done 150 out of 150 | elapsed:    0.0s finished\n"
     ]
    }
   ],
   "source": [
    "predicted_test_score=Random_forest_Model.predict(X_test)"
   ]
  },
  {
   "cell_type": "code",
   "execution_count": 305,
   "metadata": {},
   "outputs": [
    {
     "data": {
      "text/plain": [
       "1382.7296405041022"
      ]
     },
     "execution_count": 305,
     "metadata": {},
     "output_type": "execute_result"
    }
   ],
   "source": [
    "mean_squared_error(y_test,predicted_test_score,squared=False)"
   ]
  },
  {
   "cell_type": "markdown",
   "metadata": {},
   "source": [
    "# KNN Regressor"
   ]
  },
  {
   "cell_type": "code",
   "execution_count": 104,
   "metadata": {},
   "outputs": [],
   "source": [
    "n_neighbors=[5,10,15,20,40]\n",
    "weights=['uniform','distance']\n",
    "algorithm=['auto']\n",
    "leaf_size=[15,30,45,50]\n",
    "p=[1,2]\n",
    "from sklearn.neighbors import KNeighborsRegressor\n",
    "KNNReg=KNeighborsRegressor(n_jobs=-1,algorithm='auto')"
   ]
  },
  {
   "cell_type": "code",
   "execution_count": 105,
   "metadata": {},
   "outputs": [],
   "source": [
    "parameters_KNN=dict(n_neighbors=n_neighbors,weights=weights,algorithm=algorithm,leaf_size=leaf_size,p=p)"
   ]
  },
  {
   "cell_type": "code",
   "execution_count": 106,
   "metadata": {},
   "outputs": [],
   "source": [
    "from sklearn.model_selection import RandomizedSearchCV\n",
    "crosscvknn=RandomizedSearchCV(estimator=KNNReg,param_distributions=parameters_KNN,scoring='neg_root_mean_squared_error',n_jobs=-1,cv=8,verbose=3,return_train_score=True,n_iter=10)"
   ]
  },
  {
   "cell_type": "code",
   "execution_count": 106,
   "metadata": {},
   "outputs": [
    {
     "name": "stdout",
     "output_type": "stream",
     "text": [
      "Fitting 8 folds for each of 10 candidates, totalling 80 fits\n"
     ]
    },
    {
     "name": "stderr",
     "output_type": "stream",
     "text": [
      "[Parallel(n_jobs=-1)]: Using backend LokyBackend with 8 concurrent workers.\n",
      "[Parallel(n_jobs=-1)]: Done  16 tasks      | elapsed:    0.4s\n",
      "[Parallel(n_jobs=-1)]: Done  80 out of  80 | elapsed:    2.3s finished\n"
     ]
    }
   ],
   "source": [
    "KNNModel=crosscvknn.fit(X_train_array,y_train)"
   ]
  },
  {
   "cell_type": "code",
   "execution_count": 107,
   "metadata": {},
   "outputs": [
    {
     "data": {
      "text/plain": [
       "{'weights': 'uniform',\n",
       " 'p': 2,\n",
       " 'n_neighbors': 10,\n",
       " 'leaf_size': 45,\n",
       " 'algorithm': 'auto'}"
      ]
     },
     "execution_count": 107,
     "metadata": {},
     "output_type": "execute_result"
    }
   ],
   "source": [
    "KNNModel.best_params_"
   ]
  },
  {
   "cell_type": "code",
   "execution_count": 108,
   "metadata": {},
   "outputs": [],
   "source": [
    "KNNReg=KNeighborsRegressor(n_jobs=-1,algorithm='auto',weights='uniform',\n",
    " p=2,\n",
    " n_neighbors=10,\n",
    " leaf_size=45)"
   ]
  },
  {
   "cell_type": "code",
   "execution_count": 109,
   "metadata": {},
   "outputs": [],
   "source": [
    "knn_model=KNNReg.fit(X_train_array,y_train)"
   ]
  },
  {
   "cell_type": "code",
   "execution_count": 110,
   "metadata": {},
   "outputs": [],
   "source": [
    "train_predicted_knn=knn_model.predict(X_train_array)"
   ]
  },
  {
   "cell_type": "code",
   "execution_count": 111,
   "metadata": {},
   "outputs": [
    {
     "data": {
      "text/plain": [
       "1148.1627422690208"
      ]
     },
     "execution_count": 111,
     "metadata": {},
     "output_type": "execute_result"
    }
   ],
   "source": [
    "from sklearn.metrics import *\n",
    "mean_squared_error(y_train,train_predicted_knn,squared=False)\n"
   ]
  },
  {
   "cell_type": "code",
   "execution_count": 112,
   "metadata": {},
   "outputs": [
    {
     "data": {
      "text/plain": [
       "1167.4650688459585"
      ]
     },
     "execution_count": 112,
     "metadata": {},
     "output_type": "execute_result"
    }
   ],
   "source": [
    "test_predicted_knn=knn_model.predict(X_test_array)\n",
    "\n",
    "mean_squared_error(y_test,test_predicted_knn,squared=False)\n"
   ]
  },
  {
   "cell_type": "markdown",
   "metadata": {},
   "source": [
    "# Linear Ridge Regressor"
   ]
  },
  {
   "cell_type": "code",
   "execution_count": 324,
   "metadata": {},
   "outputs": [
    {
     "name": "stdout",
     "output_type": "stream",
     "text": [
      "Fitting 8 folds for each of 10 candidates, totalling 80 fits\n"
     ]
    },
    {
     "name": "stderr",
     "output_type": "stream",
     "text": [
      "[Parallel(n_jobs=-1)]: Using backend LokyBackend with 8 concurrent workers.\n",
      "[Parallel(n_jobs=-1)]: Done  16 tasks      | elapsed:    0.0s\n",
      "[Parallel(n_jobs=-1)]: Done  38 out of  80 | elapsed:    0.1s remaining:    0.1s\n",
      "[Parallel(n_jobs=-1)]: Done  80 out of  80 | elapsed:    0.1s finished\n"
     ]
    }
   ],
   "source": [
    "from sklearn.linear_model import Ridge\n",
    "ridge_reg = Ridge()\n",
    "alpha=[0.00001,0.001,0.0001,0.1,1]\n",
    "fit_intercept=[True,False]\n",
    "normalize=[True,False]\n",
    "max_iter=[500,100,1500,2000]\n",
    "parameters_linear=dict(alpha=alpha,fit_intercept=fit_intercept,normalize=normalize,max_iter=max_iter)\n",
    "crosscvlinearridge=RandomizedSearchCV(estimator=ridge_reg,param_distributions=parameters_linear,scoring='neg_root_mean_squared_error',n_jobs=-1,cv=8,verbose=3,return_train_score=True,n_iter=10)\n",
    "\n",
    "ridge_model=crosscvlinearridge.fit(X_train, y_train)"
   ]
  },
  {
   "cell_type": "code",
   "execution_count": 325,
   "metadata": {},
   "outputs": [
    {
     "data": {
      "text/plain": [
       "{'normalize': True, 'max_iter': 1500, 'fit_intercept': False, 'alpha': 0.1}"
      ]
     },
     "execution_count": 325,
     "metadata": {},
     "output_type": "execute_result"
    }
   ],
   "source": [
    "ridge_model.best_params_"
   ]
  },
  {
   "cell_type": "code",
   "execution_count": 326,
   "metadata": {},
   "outputs": [],
   "source": [
    "ridge_reg = Ridge(normalize= True, max_iter= 1500, fit_intercept=False, alpha= 0.1)"
   ]
  },
  {
   "cell_type": "code",
   "execution_count": 327,
   "metadata": {},
   "outputs": [],
   "source": [
    "Ridge_model=ridge_reg.fit(X_train,y_train)"
   ]
  },
  {
   "cell_type": "code",
   "execution_count": 328,
   "metadata": {},
   "outputs": [],
   "source": [
    "ridge_predicted_train=Ridge_model.predict(X_train)"
   ]
  },
  {
   "cell_type": "code",
   "execution_count": 330,
   "metadata": {},
   "outputs": [
    {
     "data": {
      "text/plain": [
       "1620.4539249854"
      ]
     },
     "execution_count": 330,
     "metadata": {},
     "output_type": "execute_result"
    }
   ],
   "source": [
    "mean_squared_error(y_train,ridge_predicted_train,squared=False)\n"
   ]
  },
  {
   "cell_type": "code",
   "execution_count": 331,
   "metadata": {},
   "outputs": [],
   "source": [
    "ridge_predicted_test=Ridge_model.predict(X_test)"
   ]
  },
  {
   "cell_type": "code",
   "execution_count": 332,
   "metadata": {},
   "outputs": [
    {
     "data": {
      "text/plain": [
       "1685.5062055042627"
      ]
     },
     "execution_count": 332,
     "metadata": {},
     "output_type": "execute_result"
    }
   ],
   "source": [
    "mean_squared_error(y_test,ridge_predicted_test,squared=False)"
   ]
  },
  {
   "cell_type": "markdown",
   "metadata": {},
   "source": [
    "# KNN Regressor is performing way better than Random Forest in test dataset with RMSE of 1167 ."
   ]
  },
  {
   "cell_type": "markdown",
   "metadata": {},
   "source": [
    "# Inserting the web app for this model:-"
   ]
  },
  {
   "attachments": {
    "Web_app.PNG": {
     "image/png": "[encoded data removed]"
    }
   },
   "cell_type": "markdown",
   "metadata": {},
   "source": [
    "![Web_app.PNG](attachment:Web_app.PNG)"
   ]
  },
  {
   "cell_type": "markdown",
   "metadata": {},
   "source": [
    "# This is done using Streamlit"
   ]
  }
 ],
 "metadata": {
  "kernelspec": {
   "display_name": "Python 3",
   "language": "python",
   "name": "python3"
  },
  "language_info": {
   "codemirror_mode": {
    "name": "ipython",
    "version": 3
   },
   "file_extension": ".py",
   "mimetype": "text/x-python",
   "name": "python",
   "nbconvert_exporter": "python",
   "pygments_lexer": "ipython3",
   "version": "3.7.6"
  }
 },
 "nbformat": 4,
 "nbformat_minor": 4
}
